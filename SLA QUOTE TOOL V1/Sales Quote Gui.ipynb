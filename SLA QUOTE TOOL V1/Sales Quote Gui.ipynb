{
 "cells": [
  {
   "source": [
    "This is the notebook version of the quoting tool, which loads an ANN as the "
   ],
   "cell_type": "markdown",
   "metadata": {}
  },
  {
   "source": [
    "import tkinter\n",
    "import numpy as np\n",
    "import keras\n",
    "from keras.models import model_from_json\n",
    "import json\n",
    "from sklearn.externals import joblib\n",
    "import sklearn.preprocessing as preprocessing\n",
    "from  sklearn.preprocessing import StandardScaler\n",
    "from  sklearn.preprocessing import LabelEncoder\n",
    "from  sklearn.preprocessing import OneHotEncoder \n",
    "from  sklearn.externals import joblib"
   ],
   "cell_type": "code",
   "metadata": {},
   "execution_count": null,
   "outputs": []
  },
  {
   "cell_type": "code",
   "execution_count": 2,
   "metadata": {},
   "outputs": [
    {
     "name": "stdout",
     "output_type": "stream",
     "text": [
      "Loaded model from disk\n"
     ]
    }
   ],
   "source": [
    "# load json and create model\n",
    "json_file = open('Quote Tool 1-16-19 R1.json', 'r')\n",
    "loaded_model_json = json_file.read()\n",
    "json_file.close()\n",
    "loaded_model = model_from_json(loaded_model_json)\n",
    "\n",
    "# load weights into new model\n",
    "loaded_model.load_weights(\"Quote Tool 1-16-19 R1.h5\")\n",
    "print(\"Loaded model from disk\")\n",
    "\n",
    "# load the scalers and encoders\n",
    "x_scaler = joblib.load(\"X_scaler.save\")\n",
    "y_scaler = joblib.load(\"Y_scaler.save\")\n",
    "lenc     = joblib.load(\"Lenc.save\")\n",
    "one_hot  = joblib.load(\"One_Hot.save\")"
   ]
  },
  {
   "cell_type": "code",
   "execution_count": 3,
   "metadata": {},
   "outputs": [
    {
     "name": "stdout",
     "output_type": "stream",
     "text": [
      "Black\n",
      "[[  1.     0.     0.     0.     0.   858.    25.    27.19]]\n",
      "[[ 1.69905634 -0.60352167 -0.45241393 -0.40477377 -0.44460591 -0.21407107\n",
      "  -1.39402667 -0.5329836 ]]\n",
      "[[-0.14961529]]\n",
      "[[7.817904]]\n"
     ]
    }
   ],
   "source": [
    "# Demo of the pipeline #\n",
    "# input data from Formlabs Printer: # layers, layer height, volume of resin in Ml, and color\n",
    "\n",
    "# inputs = [858, 25, 27.19, 'Black']\n",
    "# inputs = inputs\n",
    "# print(inputs[-1])\n",
    "\n",
    "# inputs[-1] = list(lenc.transform([inputs[-1]]))[:]\n",
    "# inputs[-1] = inputs[-1][0]\n",
    "# inputs = one_hot.transform([inputs]).toarray()\n",
    "# print(inputs)\n",
    "# inputs = x_scaler.transform(inputs)\n",
    "# print(inputs)\n",
    "\n",
    "# pre_scaled_out = loaded_model.predict(inputs)\n",
    "# print(pre_scaled_out)\n",
    "# hours = y_scaler.inverse_transform(pre_scaled_out)\n",
    "# print(hours)\n"
   ]
  },
  {
   "cell_type": "code",
   "execution_count": 4,
   "metadata": {},
   "outputs": [],
   "source": [
    "def calc_cost():\n",
    "    \n",
    "    global volume\n",
    "    global layer_var\n",
    "    global resin_var\n",
    "    global num_layer\n",
    "    global hours\n",
    "    global cost\n",
    "    global post\n",
    "    global units\n",
    "    # global margin\n",
    "    # global discount\n",
    "    \n",
    "    vol         = volume.get()\n",
    "    layer_thick = layer_var.get()\n",
    "    resin_type  = resin_var.get()\n",
    "    layers      = num_layer.get()\n",
    "    #print([layers,layer_thick,vol,resin_type])\n",
    "    inputs = [layers,layer_thick,vol,resin_type]\n",
    "    inputs[-1] = list(lenc.transform([inputs[-1]]))[:]\n",
    "    inputs[-1] = inputs[-1][0]\n",
    "    inputs = one_hot.transform([inputs]).toarray()\n",
    "    inputs = x_scaler.transform(inputs)\n",
    "    #print(inputs)\n",
    "    \n",
    "    pre_scaled_out = loaded_model.predict(inputs)\n",
    "    #print(pre_scaled_out)\n",
    "    hour = y_scaler.inverse_transform(pre_scaled_out)\n",
    "    #print(hours)\n",
    "    hours.delete(0,tkinter.END)\n",
    "    hours.insert(0,np.round(hour[0][0],4)) # insert at first location location\n",
    "    \n",
    "    post_get = post.get()\n",
    "    unit_get = units.get()\n",
    "    vol_get  = volume.get()\n",
    "    \n",
    "    quote_total = np.round(5*hour[0][0] + 30*float(post_get)*int(unit_get) + 500*float(vol_get)/1000,2)\n",
    "    #print(quote_total)\n",
    "    \n",
    "    cost.delete(0,tkinter.END)\n",
    "    cost.insert(0,quote_total)\n",
    "\n",
    "    \n",
    "\n",
    "\n"
   ]
  },
  {
   "cell_type": "code",
   "execution_count": null,
   "metadata": {},
   "outputs": [],
   "source": [
    "x = tkinter.Tk(screenName = 'SLA Quote Tool')\n",
    "x.title('SLA QUOTE TOOL')\n",
    "# Define the Entry Forms:\n",
    "\n",
    "x.geometry(\"215x275\")\n",
    "tkinter.Label(x,text = 'Volume').place(x = 34,y = 20)\n",
    "volume = tkinter.Entry(x)\n",
    "volume.place(x = 85,y = 20)\n",
    "\n",
    "calculate_button = tkinter.Button(x,text = 'Calculate',command = calc_cost).place(x = 115,y = 190)\n",
    "\n",
    "tkinter.Label(x,text = 'Num_Layers').place(x = 10,y = 40)\n",
    "num_layer = tkinter.Entry(x)\n",
    "num_layer.place(x = 85,y = 40)\n",
    "\n",
    "tkinter.Label(x,text = 'Units').place(x = 50,y = 60)\n",
    "units = tkinter.Entry(x)\n",
    "units.place(x = 85,y = 60)\n",
    "\n",
    "tkinter.Label(x,text = 'Post Per Unit').place(x = 10,y = 80)\n",
    "post = tkinter.Entry(x)\n",
    "post.place(x = 85,y = 80)\n",
    "\n",
    "tkinter.Label(x,text = 'Resin').place(x = 10,y = 100)\n",
    "resin_var = tkinter.StringVar()\n",
    "y_loc = 120\n",
    "for item in [\"Black\", \"Tough V5\", \"White V4\", \"Grey V4\",\"Clear V4\"]:\n",
    "    resin_button = tkinter.Radiobutton(x,text = item,variable = resin_var,value = item)\n",
    "    resin_button.place(x = 10,y = y_loc)\n",
    "    y_loc = y_loc + 20\n",
    "\n",
    "tkinter.Label(x,text = 'Layer Thickness').place(x = 110,y = 100)\n",
    "layer_var = tkinter.StringVar()\n",
    "y_loc = 120\n",
    "for item in [25,50,100]:\n",
    "    resin_button = tkinter.Radiobutton(x,text = item,variable = layer_var,value = item)\n",
    "    resin_button.place(x = 110,y = y_loc)\n",
    "    y_loc = y_loc + 20\n",
    " \n",
    "tkinter.Label(x,text = 'Hours').place(x = 45,y = 225)\n",
    "hours = tkinter.Entry(x)\n",
    "hours.place(x = 85,y = 225)\n",
    "    \n",
    "tkinter.Label(x,text = 'Price').place(x = 50,y = 245)\n",
    "cost = tkinter.Entry(x)\n",
    "cost.place(x = 85,y = 245)\n",
    "\n",
    "x.mainloop()"
   ]
  }
 ],
 "metadata": {
  "kernelspec": {
   "display_name": "Python 3",
   "language": "python",
   "name": "python3"
  },
  "language_info": {
   "codemirror_mode": {
    "name": "ipython",
    "version": 3
   },
   "file_extension": ".py",
   "mimetype": "text/x-python",
   "name": "python",
   "nbconvert_exporter": "python",
   "pygments_lexer": "ipython3",
   "version": "3.6.10-final"
  }
 },
 "nbformat": 4,
 "nbformat_minor": 2
}